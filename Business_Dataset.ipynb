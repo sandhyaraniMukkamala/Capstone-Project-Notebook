{
    "nbformat_minor": 1, 
    "cells": [
        {
            "source": "# Locality Intelligence for a best place to live", 
            "cell_type": "markdown", 
            "metadata": {
                "collapsed": true
            }
        }, 
        {
            "source": "Data Sets: From foursquare Data , Hotels and restaurants in the particular locality will be listed .\nHotels, restaurants, gym etc.. will be collected from https://www.airbnb.com/.\nBased on the ratings and the views for the neighbourhood we will select the best place to live in the Toronto City. To select from different place we will use dataset from https://www.toronto.ca/city-government/data-research-maps/open-data/ using the details in the neighborhoods, the selection of place will be done.", 
            "cell_type": "markdown", 
            "metadata": {}
        }, 
        {
            "execution_count": null, 
            "cell_type": "code", 
            "metadata": {}, 
            "outputs": [], 
            "source": ""
        }
    ], 
    "metadata": {
        "kernelspec": {
            "display_name": "Python 3.5", 
            "name": "python3", 
            "language": "python"
        }, 
        "language_info": {
            "mimetype": "text/x-python", 
            "nbconvert_exporter": "python", 
            "version": "3.5.5", 
            "name": "python", 
            "file_extension": ".py", 
            "pygments_lexer": "ipython3", 
            "codemirror_mode": {
                "version": 3, 
                "name": "ipython"
            }
        }
    }, 
    "nbformat": 4
}