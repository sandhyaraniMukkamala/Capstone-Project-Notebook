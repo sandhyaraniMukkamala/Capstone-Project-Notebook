{
    "nbformat_minor": 1, 
    "cells": [
        {
            "source": "# Battle of Neighborhoods", 
            "cell_type": "markdown", 
            "metadata": {
                "collapsed": true
            }
        }, 
        {
            "source": "# Toronto, Canada", 
            "cell_type": "markdown", 
            "metadata": {}
        }, 
        {
            "source": "# Project Description:", 
            "cell_type": "markdown", 
            "metadata": {}
        }, 
        {
            "source": "At whatever point individuals move to some other place, they investigate the place and endeavor to get however much data as could reasonably be expected about it. It very well may be the area, region, advertise, cost of the place and a lot more factors including neighborhood examination. This is can be named as demand for an inquiry calculation which for the most part restores the asked for highlights, for example, populace rate, middle house value, school evaluations, wrongdoing rates, climate conditions, recreational offices and so on. \n\nIt would be useful and pleasant to have an application which could make simple by thinking about a near investigation between the area with gave factors. \n\nThis venture helps the end client or the partner to accomplish the outcomes which won't just suggest yet additionally spares a great deal of time in manual hunt. This will in reality spare the time and cash of the client. \n\nThis undertaking can be utilized by the client at the season of rental condo or purchase house in a region dependent on the circulation of different offices accessible around the area. For instance, this venture would analyze 2 haphazardly picked neighborhoods and examinations the main 10 most basic settings in every one of those two neighborhoods dependent on the quantity of visits by individuals in every one of those spots. Additionally, this undertaking utilizes K-mean bunching unsupervised machine learning calculation to group the settings dependent on the place class, for example, eateries, park, caf\u00e9, rec center, clubs and so forth. This would give a superior comprehension of the likenesses and dissimilarities between the two picked neighborhoods to recover more experiences and to finish up easily which neighborhood prevails upon other.", 
            "cell_type": "markdown", 
            "metadata": {}
        }, 
        {
            "source": "# Data Sets and APIs:", 
            "cell_type": "markdown", 
            "metadata": {}
        }, 
        {
            "source": "*Foursquare API:  \nThis API has a database of in excess of 105 million spots. This task would utilize Four-square API as its prime information gathering source. Numerous associations are utilizing to geo-tag their photographs with nitty gritty data about a goal, while likewise presenting logically significant areas for the individuals who are scanning for a place to eat, drink or investigate. This API gives the capacity to perform area seek, area sharing and insights regarding a business. Foursquare clients can likewise utilize photographs, tips and surveys in numerous gainful approaches to increase the value of the outcomes", 
            "cell_type": "markdown", 
            "metadata": {}
        }, 
        {
            "source": "Work Flow:  \nHTTP requests would be made to this Foursquare API server utilizing postal districts of the Toronto city neighborhoods to pull the area data (Latitude and Longitude).Foursquare API look highlight would be empowered to gather the close-by spots of the areas. Because of http ask for restrictions the quantity of spots per neighborhood parameter would sensibly be set to 100 and the range parameter would be set to 700.", 
            "cell_type": "markdown", 
            "metadata": {}
        }, 
        {
            "source": "Folium:  \nPython visualization library would be utilized to envision the areas group dissemination of Toronto city over an intuitive pamphlet map.Extensive near examination of two arbitrarily chosen world be conveyed to get the attractive experiences from the results utilizing python's logical libraries Pandas, NumPy and Scikit-learn.", 
            "cell_type": "markdown", 
            "metadata": {}
        }, 
        {
            "source": "Unsupervised machine learning calculation K-mean grouping would be connected to shape the bunches of various classifications of spots dwelling in and around the areas. These groups from every one of those two picked neighborhoods would be broke down independently all in all and similarly to determine the ends.", 
            "cell_type": "markdown", 
            "metadata": {}
        }, 
        {
            "source": "# Python packages and Dependencies:", 
            "cell_type": "markdown", 
            "metadata": {}
        }, 
        {
            "source": "\u2022 Pandas - Library for Data Analysis  \n\u2022 NumPy \u2013 Library to handle data in a vectorized manner  \n\u2022 JSON \u2013 Library to handle JSON files  \n\u2022 Geopy \u2013 To retrieve Location Data   \n\u2022 Requests \u2013 Library to handle http requests  \n\u2022 Matplotlib \u2013 Python Plotting Module   \n\u2022 Sklearn \u2013 Python machine learning Library   \n\u2022 Folium \u2013 Map rendering Library  ", 
            "cell_type": "markdown", 
            "metadata": {}
        }
    ], 
    "metadata": {
        "kernelspec": {
            "display_name": "Python 3.5", 
            "name": "python3", 
            "language": "python"
        }, 
        "language_info": {
            "mimetype": "text/x-python", 
            "nbconvert_exporter": "python", 
            "version": "3.5.5", 
            "name": "python", 
            "file_extension": ".py", 
            "pygments_lexer": "ipython3", 
            "codemirror_mode": {
                "version": 3, 
                "name": "ipython"
            }
        }
    }, 
    "nbformat": 4
}